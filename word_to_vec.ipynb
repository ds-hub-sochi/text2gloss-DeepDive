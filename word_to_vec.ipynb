{
 "cells": [
  {
   "cell_type": "markdown",
   "metadata": {},
   "source": [
    "# Скачивание и загрузка модели"
   ]
  },
  {
   "cell_type": "code",
   "execution_count": 11,
   "metadata": {},
   "outputs": [],
   "source": [
    "import pymorphy2\n",
    "import pandas as pd\n",
    "import numpy as np\n",
    "import gensim\n",
    "from nltk.stem.snowball import SnowballStemmer\n",
    "import inspect\n",
    "from json import load, dump\n",
    "\n",
    "import wget\n",
    "import zipfile\n",
    "import re"
   ]
  },
  {
   "cell_type": "code",
   "execution_count": 7,
   "metadata": {},
   "outputs": [],
   "source": [
    "def download_model_rusvectores(model_id=\"65\"):\n",
    "    \"\"\"\"\"\"\n",
    "    if not os.path.exists(\"models\"):\n",
    "        os.mkdir(\"models\")\n",
    "    if os.path.exists(f\"models/{model_id}\"):\n",
    "        print(\"Model is downloaded already\")\n",
    "    else:\n",
    "        model_url = f'http://vectors.nlpl.eu/repository/11/{model_id}.zip'\n",
    "        m = wget.download(model_url)\n",
    "        with zipfile.ZipFile(f'{model_id}.zip', 'r') as zip_ref:\n",
    "            unzip_path = \"models/\" + str(model_id)\n",
    "            zip_ref.extractall(unzip_path)\n",
    "    return f\"models/{model_id}\""
   ]
  },
  {
   "cell_type": "code",
   "execution_count": 8,
   "metadata": {},
   "outputs": [],
   "source": [
    "def load_model(model_path):\n",
    "    model = gensim.models.KeyedVectors.load_word2vec_format(model_path, binary=True)\n",
    "    return model"
   ]
  },
  {
   "cell_type": "code",
   "execution_count": 9,
   "metadata": {},
   "outputs": [],
   "source": [
    "# добавляем название модели в путь\n",
    "model_path = \"models/65/model.bin\"\n",
    "\n",
    "# загрузка модели\n",
    "model = load_model(model_path)"
   ]
  },
  {
   "cell_type": "markdown",
   "metadata": {},
   "source": [
    "# Загрузка и обработка словаря"
   ]
  },
  {
   "cell_type": "code",
   "execution_count": 10,
   "metadata": {},
   "outputs": [],
   "source": [
    "def get_gloss_df(file_name=\"RSL_class_list.txt\", sep=\"\\t\"):\n",
    "    df = pd.read_csv(file_name, sep=\"\\t\", names=['index', 'word'], index_col='index')\n",
    "    return df"
   ]
  },
  {
   "cell_type": "code",
   "execution_count": 60,
   "metadata": {},
   "outputs": [],
   "source": [
    "def clean_text(text):\n",
    "    # Регулярное выражение, которое оставляет только буквы, цифры, пробелы и слэш\n",
    "    pattern = r'[^a-zA-Zа-яА-Я0-9 /]'\n",
    "    # Замена найденных совпадений на пустую строку\n",
    "    clean_text = re.sub(pattern, '', text)\n",
    "    return clean_text"
   ]
  },
  {
   "cell_type": "code",
   "execution_count": 80,
   "metadata": {},
   "outputs": [],
   "source": [
    "def set_type(row):\n",
    "    if row[\"composite\"]:\n",
    "        return \"composite\"\n",
    "    elif row[\"synonym\"]:\n",
    "        return \"synonym\"\n",
    "    else:\n",
    "        return \"single\"\n",
    "\n",
    "\n",
    "def glossary_typing(df):\n",
    "    \n",
    "    df['word'] = df['word'].apply(lambda x: clean_text(x))\n",
    "    df['word'] = df['word'].apply(lambda x: x.replace(\"ё\", \"е\"))\n",
    "\n",
    "    df['composite'] = df['word'].apply(lambda x: True if len(x.split()) > 1 else False)\n",
    "    df['synonym'] = df['word'].apply(lambda x: True if '/' in x else False)\n",
    "\n",
    "    df = df[df['word'].str.split().apply(len) < 4]\n",
    "    df = df[df['word'].str.split(\"/\").apply(len) < 4]\n",
    "    \n",
    "    letters_to_remove = list('бгдежзйлмнопртфхцчьэыъю')\n",
    "    # Создаем маску для удаления строк\n",
    "    mask = df['word'].isin(letters_to_remove)\n",
    "    # Удаляем строки\n",
    "    df = df[~mask]\n",
    "    \n",
    "    df = df.query('word != \"\"')\n",
    "    \n",
    "    df = df.assign(word_type=df.apply(set_type, axis=1))\n",
    "    return df"
   ]
  },
  {
   "cell_type": "code",
   "execution_count": 62,
   "metadata": {},
   "outputs": [],
   "source": [
    "gloss = get_gloss_df()"
   ]
  },
  {
   "cell_type": "code",
   "execution_count": 81,
   "metadata": {},
   "outputs": [],
   "source": [
    "gloss_typed = glossary_typing(gloss)"
   ]
  },
  {
   "cell_type": "code",
   "execution_count": 83,
   "metadata": {},
   "outputs": [
    {
     "data": {
      "text/html": [
       "<div>\n",
       "<style scoped>\n",
       "    .dataframe tbody tr th:only-of-type {\n",
       "        vertical-align: middle;\n",
       "    }\n",
       "\n",
       "    .dataframe tbody tr th {\n",
       "        vertical-align: top;\n",
       "    }\n",
       "\n",
       "    .dataframe thead th {\n",
       "        text-align: right;\n",
       "    }\n",
       "</style>\n",
       "<table border=\"1\" class=\"dataframe\">\n",
       "  <thead>\n",
       "    <tr style=\"text-align: right;\">\n",
       "      <th></th>\n",
       "      <th>word</th>\n",
       "      <th>composite</th>\n",
       "      <th>synonym</th>\n",
       "      <th>word_type</th>\n",
       "    </tr>\n",
       "    <tr>\n",
       "      <th>index</th>\n",
       "      <th></th>\n",
       "      <th></th>\n",
       "      <th></th>\n",
       "      <th></th>\n",
       "    </tr>\n",
       "  </thead>\n",
       "  <tbody>\n",
       "    <tr>\n",
       "      <th>0</th>\n",
       "      <td>1</td>\n",
       "      <td>False</td>\n",
       "      <td>False</td>\n",
       "      <td>single</td>\n",
       "    </tr>\n",
       "    <tr>\n",
       "      <th>1</th>\n",
       "      <td>10</td>\n",
       "      <td>False</td>\n",
       "      <td>False</td>\n",
       "      <td>single</td>\n",
       "    </tr>\n",
       "    <tr>\n",
       "      <th>2</th>\n",
       "      <td>2</td>\n",
       "      <td>False</td>\n",
       "      <td>False</td>\n",
       "      <td>single</td>\n",
       "    </tr>\n",
       "    <tr>\n",
       "      <th>3</th>\n",
       "      <td>2 часа</td>\n",
       "      <td>True</td>\n",
       "      <td>False</td>\n",
       "      <td>composite</td>\n",
       "    </tr>\n",
       "    <tr>\n",
       "      <th>4</th>\n",
       "      <td>20</td>\n",
       "      <td>False</td>\n",
       "      <td>False</td>\n",
       "      <td>single</td>\n",
       "    </tr>\n",
       "    <tr>\n",
       "      <th>...</th>\n",
       "      <td>...</td>\n",
       "      <td>...</td>\n",
       "      <td>...</td>\n",
       "      <td>...</td>\n",
       "    </tr>\n",
       "    <tr>\n",
       "      <th>1593</th>\n",
       "      <td>я</td>\n",
       "      <td>False</td>\n",
       "      <td>False</td>\n",
       "      <td>single</td>\n",
       "    </tr>\n",
       "    <tr>\n",
       "      <th>1594</th>\n",
       "      <td>являться</td>\n",
       "      <td>False</td>\n",
       "      <td>False</td>\n",
       "      <td>single</td>\n",
       "    </tr>\n",
       "    <tr>\n",
       "      <th>1595</th>\n",
       "      <td>язык</td>\n",
       "      <td>False</td>\n",
       "      <td>False</td>\n",
       "      <td>single</td>\n",
       "    </tr>\n",
       "    <tr>\n",
       "      <th>1596</th>\n",
       "      <td>ясный</td>\n",
       "      <td>False</td>\n",
       "      <td>False</td>\n",
       "      <td>single</td>\n",
       "    </tr>\n",
       "    <tr>\n",
       "      <th>1598</th>\n",
       "      <td>жик</td>\n",
       "      <td>False</td>\n",
       "      <td>False</td>\n",
       "      <td>single</td>\n",
       "    </tr>\n",
       "  </tbody>\n",
       "</table>\n",
       "<p>1570 rows × 4 columns</p>\n",
       "</div>"
      ],
      "text/plain": [
       "           word  composite  synonym  word_type\n",
       "index                                         \n",
       "0             1      False    False     single\n",
       "1            10      False    False     single\n",
       "2             2      False    False     single\n",
       "3        2 часа       True    False  composite\n",
       "4            20      False    False     single\n",
       "...         ...        ...      ...        ...\n",
       "1593          я      False    False     single\n",
       "1594   являться      False    False     single\n",
       "1595       язык      False    False     single\n",
       "1596      ясный      False    False     single\n",
       "1598        жик      False    False     single\n",
       "\n",
       "[1570 rows x 4 columns]"
      ]
     },
     "execution_count": 83,
     "metadata": {},
     "output_type": "execute_result"
    }
   ],
   "source": [
    "gloss_typed"
   ]
  },
  {
   "cell_type": "code",
   "execution_count": 64,
   "metadata": {},
   "outputs": [],
   "source": [
    "class WordAnalyzer:\n",
    "    def __init__(self):\n",
    "        \"\"\"\n",
    "        Инициализация объекта класса WordAnalyzer.\n",
    "        \"\"\"\n",
    "        self.morph = self._init_morph()\n",
    "        self.stemmer = SnowballStemmer(\"russian\")\n",
    "\n",
    "    def _init_morph(self):\n",
    "        \"\"\"\n",
    "        Инициализация объекта MorphAnalyzer с передачей языка из параметров конструктора.\n",
    "        \"\"\"\n",
    "        init_params = inspect.signature(pymorphy2.MorphAnalyzer.__init__).parameters\n",
    "        lang_param = init_params.get('lang')\n",
    "        lang = 'ru' if lang_param.default == inspect.Parameter.empty else lang_param.default\n",
    "        return pymorphy2.MorphAnalyzer(lang=lang)\n",
    "\n",
    "    def extract_normal_form(self, word: str) -> str:\n",
    "        \"\"\"\n",
    "        Извлекает нормальную форму слова.\n",
    "\n",
    "        Параметры:\n",
    "            word (str): Слово, для которого нужно найти нормальную форму.\n",
    "\n",
    "        Возвращает:\n",
    "            str: Нормальная форма слова.\n",
    "        \"\"\"\n",
    "        parsed_word = self.morph.parse(word)[0]\n",
    "        return parsed_word.normal_form\n",
    "\n",
    "    def _get_param_names(self):\n",
    "        signature = inspect.signature(self.__init__)\n",
    "        return [p.name for p in signature.parameters.values()]\n",
    "\n",
    "    def stemming(self, word: str) -> str:\n",
    "        \"\"\"\n",
    "        Выполняет стемминг слова.\n",
    "\n",
    "        Параметры:\n",
    "            word (str): Слово, которое нужно стеммить.\n",
    "\n",
    "        Возвращает:\n",
    "            str: Основа слова после стемминга.\n",
    "        \"\"\"\n",
    "        return self.stemmer.stem(word)\n",
    "\n",
    "    def levenshtein_distance(self, word1: str, word2: str) -> int:\n",
    "        \"\"\"\n",
    "        Вычисляет расстояние Левенштейна между двумя словами.\n",
    "\n",
    "        Параметры:\n",
    "            word1 (str): Первое слово.\n",
    "            word2 (str): Второе слово.\n",
    "\n",
    "        Возвращает:\n",
    "            int: Расстояние Левенштейна между словами.\n",
    "        \"\"\"\n",
    "        len1, len2 = len(word1), len(word2)\n",
    "        dp = [[0] * (len2 + 1) for _ in range(len1 + 1)]\n",
    "        for i in range(len1 + 1):\n",
    "            dp[i][0] = i\n",
    "        for j in range(len2 + 1):\n",
    "            dp[0][j] = j\n",
    "        for i in range(1, len1 + 1):\n",
    "            for j in range(1, len2 + 1):\n",
    "                cost = 0 if word1[i - 1] == word2[j - 1] else 1\n",
    "                dp[i][j] = min(dp[i-1][j] + 1, dp[i][j-1] + 1, dp[i-1][j-1] + cost)\n",
    "        return dp[len1][len2]\n",
    "\n",
    "    def compare_words(self, word1: str, word2: str, threshold_percent: float = 0.5) -> bool:\n",
    "        \"\"\"\n",
    "        Сравнивает два слова на основе их нормальных форм, стеммов и расстояния Левенштейна.\n",
    "\n",
    "        Параметры:\n",
    "            word1 (str): Первое слово.\n",
    "            word2 (str): Второе слово.\n",
    "            threshold_percent (float): Процент от длины слова для определения порогового значения.\n",
    "                                      По умолчанию 0.7.\n",
    "\n",
    "        Возвращает:\n",
    "            bool: True, если слова считаются однокоренными, False в противном случае.\n",
    "        \"\"\"\n",
    "        normal_form1 = self.extract_normal_form(word1)\n",
    "        normal_form2 = self.extract_normal_form(word2)\n",
    "        stem1 = self.stemming(normal_form1)\n",
    "        stem2 = self.stemming(normal_form2)\n",
    "        distance_threshold = max(len(stem1), len(stem2)) * threshold_percent\n",
    "        distance = self.levenshtein_distance(stem1, stem2)\n",
    "        return distance <= distance_threshold\n",
    "\n",
    "    def find_related_words(self, word: str, dictionary: list[str]) -> list[str]:\n",
    "        \"\"\"\n",
    "        Находит однокоренные слова к поданному слову из заданного словаря.\n",
    "\n",
    "        Параметры:\n",
    "            word (str): Слово, для которого нужно найти однокоренные слова.\n",
    "            dictionary (List[str]): Список слов из словаря.\n",
    "\n",
    "        Возвращает:\n",
    "            List[str]: Список однокоренных слов к поданному слову из словаря.\n",
    "        \"\"\"\n",
    "        related_words = [dict_word for dict_word in dictionary if self.compare_words(word, dict_word)]\n",
    "        return related_words"
   ]
  },
  {
   "cell_type": "code",
   "execution_count": 65,
   "metadata": {},
   "outputs": [],
   "source": [
    "def search_similar_word_in_model(word: str) -> str:\n",
    "\n",
    "    analyzer = WordAnalyzer()\n",
    "    try:\n",
    "        most_similar = model.most_similar(word)\n",
    "        if len(most_similar) < 1:\n",
    "            return None\n",
    "        else:\n",
    "            similar_words = {similar[0]: similar[1] for similar in most_similar}  # создание словаря похожих слов\n",
    "            homonyms = analyzer.find_related_words(word, list(similar_words.keys()))  # Преобразуем представление ключей в список\n",
    "            homonyms_dict = {word: similar_words[word] for word in similar_words.keys() if word in homonyms}\n",
    "        if len(homonyms) < 1:               \n",
    "            return list(similar_words.keys())[0]\n",
    "        elif len(homonyms) == 1:\n",
    "            list(homonyms_dict.keys())[0]\n",
    "        else:\n",
    "            best_distance = 0\n",
    "            for key, val in homonyms_dict.items():  # Используем items() для итерации по ключам и значениям\n",
    "                if val > best_distance:\n",
    "                    best_distance = val\n",
    "                    best_word = key\n",
    "            return best_word                     \n",
    "    except:\n",
    "        return None\n",
    "\n",
    "def get_vector(x, column):\n",
    "    key = x[column]\n",
    "    if key in model:\n",
    "        return model[key]\n",
    "    else: \n",
    "        return search_similar_word_in_model(key)\n",
    "\n",
    "def add_synonyms_composit_columns(df):\n",
    "    # Создаем столбцы для синонимов и для их векторных представлений\n",
    "    for i in range(1, 4):\n",
    "        df[f'synonym_{i}'] = df.apply(lambda x: x['word'].split('/')[i-1] if x['synonym'] and len(x['word'].split('/')) >= i else None, axis=1)\n",
    "        df[f'synonym_{i}_vec'] = df.apply(lambda x: get_vector(x, f'synonym_{i}') if x['synonym'] else '', axis=1)\n",
    "    \n",
    "    # Создаем столбцы для составных слов и для их векторных представлений\n",
    "    for i in range(1, 4):\n",
    "        df[f'composite_{i}'] = df.apply(lambda x: x['word'].split()[i-1] if x['composite'] and  i <= len(x['word'].split()) < 4 else None, axis=1)\n",
    "        df[f'composite_{i}_vec'] = df.apply(lambda x: get_vector(x, f'composite_{i}') if x['composite'] else None, axis=1)\n",
    "    return df"
   ]
  },
  {
   "cell_type": "code",
   "execution_count": 84,
   "metadata": {},
   "outputs": [],
   "source": [
    "gloss_typed_vec = add_synonyms_composit_columns(gloss_typed)"
   ]
  },
  {
   "cell_type": "code",
   "execution_count": 189,
   "metadata": {},
   "outputs": [],
   "source": [
    "def get_vec_for_composite(df):\n",
    "    df = df.query(\"word_type == 'composite'\")\n",
    "    composite_columns = [f'composite_{i}' for i in range(1, 4)]\n",
    "    composite_vec_columns = [f'composite_{i}_vec' for i in range(1, 4)]\n",
    "    df = df.fillna(\"\")\n",
    "    \n",
    "    \n",
    "    df[\"composite_3_vec\"] = df[\"composite_3_vec\"].apply(lambda x: [0.0] * 100 if x == \"\" else x)\n",
    "    \n",
    "\n",
    "    \n",
    "    # Добавление новой колонки с суммой векторов\n",
    "    df['vec'] = df.apply(lambda row: \n",
    "                                   np.round(np.array(row['composite_1_vec']) +\n",
    "                                   np.array(row['composite_2_vec']) +\n",
    "                                   np.array(row['composite_3_vec']), 6), axis=1)\n",
    "\n",
    "    \n",
    "    \n",
    "\n",
    "    return df[[\"word\", \"vec\"]]"
   ]
  },
  {
   "cell_type": "code",
   "execution_count": 190,
   "metadata": {
    "scrolled": false
   },
   "outputs": [
    {
     "name": "stderr",
     "output_type": "stream",
     "text": [
      "/var/folders/ns/04cy8gjs09v9bg9std1bl7l00000gn/T/ipykernel_79638/2128229662.py:8: FutureWarning: elementwise comparison failed; returning scalar instead, but in the future will perform elementwise comparison\n",
      "  df[\"composite_3_vec\"] = df[\"composite_3_vec\"].apply(lambda x: [0.0] * 100 if x == \"\" else x)\n"
     ]
    }
   ],
   "source": [
    "gloss_vected_comp = get_vec_for_composite(gloss_typed_vec)"
   ]
  },
  {
   "cell_type": "code",
   "execution_count": 170,
   "metadata": {},
   "outputs": [],
   "source": [
    "def select_synonym_vec(df):\n",
    "    df1 = df.query(\"synonym_1 != ''\")\n",
    "    df1 = df1[[\"word\", \"synonym_1_vec\"]]\n",
    "    df1 = df1.rename(columns={\"synonym_1_vec\": \"vec\"})\n",
    "    \n",
    "    df2 = df.query(\"synonym_2 != ''\")\n",
    "    df2 = df2[[\"word\", \"synonym_2_vec\"]]\n",
    "    df2 = df2.rename(columns={\"synonym_2_vec\": \"vec\"})\n",
    "    \n",
    "    df3 = df.query(\"synonym_3 != ''\")\n",
    "    df3 = df3[[\"word\", \"synonym_3_vec\"]]\n",
    "    df3 = df3.rename(columns={\"synonym_3_vec\": \"vec\"})\n",
    "    \n",
    "    res = pd.concat([df1, df2, df3], ignore_index=True)\n",
    "    return res"
   ]
  },
  {
   "cell_type": "code",
   "execution_count": 171,
   "metadata": {},
   "outputs": [],
   "source": [
    "synonyms_from_dict = select_synonym_vec(gloss_vected)"
   ]
  },
  {
   "cell_type": "code",
   "execution_count": 218,
   "metadata": {},
   "outputs": [],
   "source": [
    "def get_all_vec(df, synonyms, composite):\n",
    "    df = df.query(\"word_type == 'single'\")\n",
    "    df['vec'] = df.apply(lambda x: get_vector(x, 'word'), axis=1)\n",
    "    df = df[[\"word\", \"vec\"]]\n",
    "    \n",
    "    res = pd.concat([df, synonyms, composite], ignore_index=True)\n",
    "    res = res[~res[\"vec\"].isna()]\n",
    "    return res"
   ]
  },
  {
   "cell_type": "code",
   "execution_count": 219,
   "metadata": {
    "scrolled": true
   },
   "outputs": [
    {
     "name": "stderr",
     "output_type": "stream",
     "text": [
      "/var/folders/ns/04cy8gjs09v9bg9std1bl7l00000gn/T/ipykernel_79638/1409097487.py:3: SettingWithCopyWarning: \n",
      "A value is trying to be set on a copy of a slice from a DataFrame.\n",
      "Try using .loc[row_indexer,col_indexer] = value instead\n",
      "\n",
      "See the caveats in the documentation: https://pandas.pydata.org/pandas-docs/stable/user_guide/indexing.html#returning-a-view-versus-a-copy\n",
      "  df['vec'] = df.apply(lambda x: get_vector(x, 'word'), axis=1)\n"
     ]
    }
   ],
   "source": [
    "gloss_vectors = get_all_vec(gloss_vected, synonyms_from_dict, gloss_vected_comp)"
   ]
  },
  {
   "cell_type": "code",
   "execution_count": null,
   "metadata": {},
   "outputs": [],
   "source": [
    "# Преобразование векторов в списки Python\n",
    "    df['vec'] = df['vec'].apply(lambda x: x.tolist())\n",
    "    \n",
    "    # Создание словаря из DataFrame\n",
    "    dict_vec = df.set_index('word')['vec'].to_dict()\n",
    "    \n",
    "    # Сохранение словаря в JSON файл\n",
    "    with open(json_filename, 'w', encoding='utf-8') as json_file:\n",
    "        json.dump(dict_vec, json_file, ensure_ascii=False, indent=2)"
   ]
  },
  {
   "cell_type": "code",
   "execution_count": 227,
   "metadata": {},
   "outputs": [],
   "source": [
    "def dataframe_to_dict(df):\n",
    "    df['vec'] = df['vec'].apply(list)\n",
    "    dict_vec = df.set_index('word')['vec'].to_dict()\n",
    "    return dict_vec\n",
    "#     with open(json_filename, 'w', encoding='utf-8') as json_file:\n",
    "#         dump(dict_vec, json_file, ensure_ascii=False, indent=2)"
   ]
  },
  {
   "cell_type": "code",
   "execution_count": 229,
   "metadata": {},
   "outputs": [],
   "source": [
    "gloss_dict = dataframe_to_dict(gloss_vectors)"
   ]
  },
  {
   "cell_type": "code",
   "execution_count": 230,
   "metadata": {},
   "outputs": [],
   "source": [
    "# сохранить в json"
   ]
  },
  {
   "cell_type": "markdown",
   "metadata": {},
   "source": [
    "# Обработка входного файла"
   ]
  },
  {
   "cell_type": "code",
   "execution_count": 231,
   "metadata": {},
   "outputs": [],
   "source": [
    "# обработать при помощи скрипта, которым обработан словарь"
   ]
  },
  {
   "cell_type": "code",
   "execution_count": null,
   "metadata": {},
   "outputs": [],
   "source": []
  },
  {
   "cell_type": "markdown",
   "metadata": {},
   "source": [
    "# Поиск похожего слова"
   ]
  },
  {
   "cell_type": "code",
   "execution_count": 232,
   "metadata": {},
   "outputs": [],
   "source": [
    "# разбить на функции и привести в порядок"
   ]
  },
  {
   "cell_type": "code",
   "execution_count": 275,
   "metadata": {},
   "outputs": [],
   "source": [
    "analyzer = WordAnalyzer()"
   ]
  },
  {
   "cell_type": "code",
   "execution_count": 6,
   "metadata": {},
   "outputs": [],
   "source": [
    "def read_json_to_dict(json_filename: str) -> dict:\n",
    "\n",
    "    with open(json_filename, 'r', encoding='utf-8') as json_file:\n",
    "        data_dict = load(json_file)\n",
    "\n",
    "    for key, value in data_dict.items():\n",
    "        data_dict[key] = np.array(value, dtype=np.float32)\n",
    "        \n",
    "    return data_dict"
   ]
  },
  {
   "cell_type": "code",
   "execution_count": 1,
   "metadata": {},
   "outputs": [],
   "source": [
    "def read_test_list(filename: str) -> list:\n",
    "\n",
    "    with open(filename, encoding='UTF-8') as file:\n",
    "        test = []\n",
    "        for line in file.readlines():\n",
    "            words = line.strip().split()\n",
    "            for word in words:\n",
    "                if word in digits.keys():\n",
    "                    word = digits[word]\n",
    "                else:\n",
    "                    for old_char, new_char in to_replace.items():\n",
    "                        word = word.replace(old_char, new_char)\n",
    "                test.append(word)\n",
    "    return test"
   ]
  },
  {
   "cell_type": "code",
   "execution_count": 278,
   "metadata": {},
   "outputs": [],
   "source": [
    "def search_similar_word_in_model(word: str, analyzer) -> str:\n",
    "\n",
    "    try:\n",
    "        most_similar = model.most_similar(word)\n",
    "        if len(most_similar) < 1:\n",
    "            return None\n",
    "        else:\n",
    "            similar_words = {similar[0]: similar[1] for similar in most_similar}  # создание словаря похожих слов\n",
    "            homonyms = analyzer.find_related_words(word, list(similar_words.keys()))  # Преобразуем представление ключей в список\n",
    "            homonyms_dict = {word: similar_words[word] for word in similar_words.keys() if word in homonyms}\n",
    "        if len(homonyms) < 1:               \n",
    "            return list(similar_words.keys())[0]\n",
    "        elif len(homonyms) == 1:\n",
    "            return list(homonyms_dict.keys())[0]\n",
    "        else:\n",
    "            best_distance = 0\n",
    "            for key, val in homonyms_dict.items():  # Используем items() для итерации по ключам и значениям\n",
    "                if val > best_distance:\n",
    "                    best_distance = val\n",
    "                    best_word = key\n",
    "            return best_word                     \n",
    "    except KeyError:\n",
    "        return None"
   ]
  },
  {
   "cell_type": "code",
   "execution_count": 270,
   "metadata": {},
   "outputs": [],
   "source": [
    "from typing import Union"
   ]
  },
  {
   "cell_type": "code",
   "execution_count": 279,
   "metadata": {},
   "outputs": [],
   "source": [
    "def prepare_test_dict(filename: str, analyzer) -> Union[dict, list]:\n",
    "    not_found = []\n",
    "    test = read_test_list(filename)\n",
    "    test_dict = {}\n",
    "    for word in test:\n",
    "        if word in model:\n",
    "            test_dict[word] = model[word] \n",
    "        else:\n",
    "            lemma = analyzer.extract_normal_form(word)\n",
    "            try:\n",
    "                vector = model[lemma]  # Пытаемся найти вектор для слова в модели\n",
    "                test_dict[word] = vector\n",
    "            except KeyError:\n",
    "                similar_word = search_similar_word_in_model(word)\n",
    "                if similar_word:\n",
    "                    test_dict[word] = similar_word\n",
    "                else:\n",
    "                    not_found.append(word)\n",
    "    return test_dict, not_found"
   ]
  },
  {
   "cell_type": "code",
   "execution_count": 273,
   "metadata": {},
   "outputs": [
    {
     "name": "stdout",
     "output_type": "stream",
     "text": [
      "чем [('пот', 0.24484825), ('попадать', 0.24069232), ('себе', 0.23570879), ('второй', 0.235332), ('жадно есть', 0.23294939), ('жадноесть', 0.23294939), ('деньга', 0.23260924), ('тридцать', 0.2313614), ('возникать', 0.23004192), ('упасть', 0.22939818), ('безопасность', 0.10240044)]\n",
      "невоз [('практически', 0.42358407), ('так себе', 0.40360782), ('таксебе', 0.40360782), ('переходить', 0.3924577), ('но', 0.38199118), ('только', 0.37925637), ('аллергия на еду', 0.3787159), ('аллергиянаеду', 0.3787159), ('вообще', 0.37783754), ('получаться', 0.3726462), ('4', 0.120081045)]\n",
      "завтрак [('закуска перед едой', 0.3274034), ('закускапередедой', 0.3274034), ('еду', 0.32398418), ('хлеб', 0.3227446), ('жадно есть', 0.3163149), ('жадноесть', 0.3163149), ('пищи', 0.30907604), ('носорог', 0.30630806), ('вкусный', 0.30491206), ('ароматный', 0.3027006), ('активный', 0.12142241)]\n",
      "трое [('дельфин', 0.15827794), ('оседать', 0.15710601), ('вагон', 0.15534014), ('автобус', 0.1514308), ('пот', 0.1504958), ('проект', 0.14752649), ('оплата', 0.14704624), ('квартира', 0.14555737), ('аллергия на еду', 0.13638178), ('аллергиянаеду', 0.13638178), ('борода', -0.0005138353)]\n",
      "зо [('переходить', 0.29667062), ('выходить', 0.274218), ('прибывать', 0.27039063), ('давать', 0.26836127), ('принимать/получать', 0.2652273), ('принимать', 0.2652273), ('второй', 0.2573359), ('вздрагивать', 0.25082436), ('третий', 0.24690716), ('вылетать', 0.24563397), ('6', 0.098911166)]\n",
      "задекларировать [('поставлять', 0.3308457), ('образовать', 0.31985897), ('воздух', 0.31111237), ('договор', 0.29297808), ('большой', 0.28669417), ('с', 0.28626603), ('общий', 0.28604394), ('собственный', 0.28531474), ('существовать', 0.27991313), ('еду', 0.2793851), ('3', 0.07660533)]\n",
      "ужин [('еда', 0.33694136), ('воздух', 0.30105087), ('вкусный', 0.29170802), ('большой', 0.27702022), ('жаркий', 0.27237403), ('ароматный', 0.2680954), ('ревнивый', 0.26351783), ('настоящий', 0.26304948), ('закуска', 0.26282942), ('девяносто', 0.25814885), ('4', 0.024063136)]\n",
      "чуть [('пот', 0.27308232), ('перед', 0.24844362), ('же', 0.22282702), ('упасть', 0.22131142), ('так', 0.22053035), ('большой', 0.21664928), ('не слышать', 0.21598151), ('неслышать', 0.21598151), ('между', 0.214482), ('второй', 0.21424985), ('вполне', 0.029617801)]\n",
      "такой [('большой', 0.42234126), ('так', 0.41825372), ('настоящий', 0.41688165), ('так себе', 0.4044718), ('таксебе', 0.4044718), ('ощущение', 0.3960911), ('холод', 0.3821817), ('лишний', 0.3799968), ('сухой', 0.37898776), ('иногда', 0.3765551), ('актер', 0.19030209)]\n",
      "десятый [('же', 0.2837551), ('принимать/получать', 0.26186505), ('принимать', 0.26186505), ('передавать', 0.24884184), ('настоящее', 0.24748139), ('тот же', 0.24672346), ('тотже', 0.24672346), ('глупый', 0.24542627), ('количество', 0.24266292), ('едой', 0.22688308), ('7', 0.06893495)]\n",
      "багажный [('заварочный', 0.3260575), ('нормальный', 0.32590258), ('рыба', 0.32519543), ('креветка', 0.3136484), ('курица', 0.30754346), ('обычный', 0.30715376), ('поднос', 0.29483104), ('кувшин', 0.2933752), ('плавник', 0.29224485), ('большой', 0.29153717), ('6', 0.093734905)]\n",
      "руководящий [('оказывать', 0.3591552), ('распределять', 0.34385648), ('доставлять', 0.3389313), ('доставлять удовольствие', 0.32884297), ('доставлятьудовольствие', 0.32884297), ('настоящий', 0.31150243), ('признавать', 0.299916), ('настоящее', 0.29785585), ('постоянный', 0.29492664), ('еду', 0.2857853), ('прошлом', 0.1471823)]\n",
      "о [('прагматичный', 0.25572336), ('так', 0.24708234), ('как', 0.24315563), ('порядок', 0.24245271), ('данный', 0.24046254), ('кормить', 0.22807555), ('жадно есть', 0.22631037), ('жадноесть', 0.22631037), ('они', 0.2260145), ('уони', 0.22190382), ('женскийтуалет', 0.106452145)]\n",
      "['тоже', 'когда', 'вы', 'за', 'или', 'здесь', 'то', 'нельзя', 'сам', 'чем', 'ведь', 'более', 'совсем', 'да', 'в', 'уже', 'невоз', 'много', 'хоть', 'завтрак', 'трое', 'первый', '3', 'тут', 'потому', '5', 'на', 'этот', 'разве', 'как', 'уж', 'если', 'четвертый', '10', 'третий', 'зо', 'куда', 'это', 'тогда', 'что', 'почти', 'ты', 'там', 'и', 'до', 'они', 'но', 'к', 'иногда', 'через', 'у', 'есть', 'всегда', 'же', 'даже', '6', 'где', 'тот', 'какой', 'себя', 'двадцать', 'теперь', 'для', 'задекларировать', 'никогда', 'раз', 'он', 'она', 'надо', 'вот', 'мой', 'ужин', 'чуть', 'при', 'такой', 'десятый', '7', 'кто', 'а', 'так', 'после', 'другой', 'миллион', 'хорошо', 'ли', '1', 'над', 'сейчас', 'багажный', 'ни', 'не', 'без', 'нет', 'от', 'конечно', 'про', 'я', 'зачем', 'бы', 'пятьсот', 'второй', 'из', 'по', '2', '4', 'только', 'мы', 'руководящий', 'о', 'ничего', 'ну', 'с', 'тысяча', 'быть', 'чтобы']\n",
      "['тоже', 'когда', 'вы', 'за', 'или', 'здесь', 'то', 'нельзя', 'сам', 'пот', 'ведь', 'более', 'совсем', 'да', 'в', 'уже', 'практически', 'много', 'хоть', 'закуска перед едой', 'дельфин', 'первый', '3', 'тут', 'потому', '5', 'на', 'этот', 'разве', 'как', 'уж', 'если', 'четвертый', '10', 'третий', 'переходить', 'куда', 'это', 'тогда', 'что', 'почти', 'ты', 'там', 'и', 'до', 'они', 'но', 'к', 'иногда', 'через', 'у', 'есть', 'всегда', 'же', 'даже', '6', 'где', 'тот', 'какой', 'себя', 'двадцать', 'теперь', 'для', 'поставлять', 'никогда', 'раз', 'он', 'она', 'надо', 'вот', 'мой', 'еда', 'пот', 'при', 'так', 'же', '7', 'кто', 'а', 'так', 'после', 'другой', 'миллион', 'хорошо', 'ли', '1', 'над', 'сейчас', 'заварочный', 'ни', 'не', 'без', 'нет', 'от', 'конечно', 'про', 'я', 'зачем', 'бы', 'пятьсот', 'второй', 'из', 'по', '2', '4', 'только', 'мы', 'оказывать', 'они', 'ничего', 'ну', 'с', 'тысяча', 'быть', 'чтобы']\n"
     ]
    }
   ],
   "source": [
    "input_type = 'filename' # можно подавать на вход функции имя файла 'filename' со словами, список слов 'lst', слово 'word', текст 'str', каждый тип данных на входе будет обработан в соответсвии с типом\n",
    "test_filename = 'test.txt'\n",
    "json_dict_name = 'gloss_dict.json'\n",
    "not_found = []\n",
    "gloss_dict = read_json_to_dict(json_dict_name)\n",
    "text_in_gloss = []\n",
    "trashhold = 0.3\n",
    "\n",
    "if input_type == 'filename':\n",
    "    test_dict, not_found = prepare_test_dict(test_filename, analyzer)\n",
    "\n",
    "    for word in test_dict:\n",
    "        if word in gloss_dict:\n",
    "            text_in_gloss.append(word)\n",
    "        else:\n",
    "            similarity_lst = []\n",
    "            for gloss, vec in gloss_dict.items():\n",
    "                cos_sim = np.dot(test_dict[word], gloss_dict[gloss])/(np.linalg.norm(test_dict[word]) * np.linalg.norm(gloss_dict[gloss]))\n",
    "                if len(similarity_lst) < 1:\n",
    "                    similarity_lst.append((gloss, cos_sim))\n",
    "                    top_ten_distance = cos_sim\n",
    "                if len(similarity_lst) < 11:\n",
    "                    similarity_lst.append((gloss, cos_sim))\n",
    "                    if cos_sim < top_ten_distance:\n",
    "                        top_ten_distance = cos_sim\n",
    "                else:\n",
    "                    if cos_sim > top_ten_distance:\n",
    "                        similarity_lst = [tup for tup in similarity_lst if tup[1] != top_ten_distance]\n",
    "                        similarity_lst.append((gloss, cos_sim))\n",
    "                        similarity_lst = sorted(similarity_lst, key=lambda x: x[1], reverse=True)\n",
    "                        top_ten_distance = similarity_lst[9][1]\n",
    "            \n",
    "            similarity_lst = sorted(similarity_lst, key=lambda x: x[1], reverse=True)\n",
    "            print(word, similarity_lst)\n",
    "            similar_words = {similar[0]: similar[1] for similar in similarity_lst}  # создание словаря похожих слов\n",
    "            homonyms = analyzer.find_related_words(word, list(similar_words.keys()))  # Преобразуем представление ключей в список\n",
    "            homonyms_dict = {word: similar_words[word] for word in similar_words.keys() if word in homonyms}\n",
    "            if len(homonyms) < 1:               \n",
    "                text_in_gloss.append(similarity_lst[0][0])\n",
    "            elif len(homonyms) == 1:\n",
    "                text_in_gloss.append(list(homonyms_dict.keys())[0])\n",
    "            else:\n",
    "                best_distance = 0\n",
    "                for key, val in homonyms_dict.items():  # Используем items() для итерации по ключам и значениям\n",
    "                    if val > best_distance:\n",
    "                        best_distance = val\n",
    "                        best_word = key\n",
    "                text_in_gloss.append(best_word)\n",
    "    \n",
    "print(list(test_dict.keys()))\n",
    "print(text_in_gloss)\n",
    "\n",
    "\n",
    "# независимо от типа входных данных функция всегда возвращает список слов 'str' из словаря глоссов и список слов, которые не нашли\n",
    "# На выходе из нашего скрипта, мы предоставляем спискок слов из словаря без векторных представлений а также файл gloss_dict.json для дальнейшей работы с одним и тем же предобработанным словарем глоссов,\n",
    "# который содежит слово и его векторное представление мз модели word2vec, а также список слов, которых нет в модели и наш скрипт их не обработал"
   ]
  },
  {
   "cell_type": "code",
   "execution_count": 222,
   "metadata": {
    "collapsed": true
   },
   "outputs": [
    {
     "data": {
      "text/plain": [
       "dict_keys(['1', '10', '2', '2 часа', '20', '3', '4', '5', '6', '6 часов', '7', '8', '9', 'нет жеста', 'а', 'август', 'автобус', 'агрессивный', 'агрессия', 'адаптивное поведение', 'адаптивность', 'адаптивный', 'адрес/улица', 'аккуратный', 'активный', 'актер', 'акула', 'аллергия на еду', 'аллигатор', 'амбициозный', 'английский', 'аниматор', 'аппетит', 'аренда', 'армия', 'ароматный', 'аэропорт', 'бабочка', 'багаж', 'база', 'банк', 'банкет', 'башенные часы', 'бегемот', 'бежать', 'бежевый', 'без', 'безопасность', 'безразличие', 'безумный', 'белок', 'белый', 'берег', 'беспокоить', 'беспокоиться', 'беспокойный', 'беспокойство', 'бизнес', 'билет', 'благоговение', 'благодарность', 'благополучие', 'бледный', 'близкий', 'бог', 'бой', 'более', 'болеть', 'большинство', 'большой', 'борода', 'борьба', 'бояться', 'брат', 'брать', 'бронь', 'бросать', 'брюзжать', 'будто', 'будущий', 'бумага', 'бутылка', 'бы', 'бывать', 'бывший', 'бык', 'быстрый', 'быть', 'быть потрясенным', 'бюро', 'в', 'в восемь пятнадцать', 'в настоящее время', 'в прошлом году', 'в спешке', 'в этом году', 'вагон', 'важный', 'вариант', 'вверх', 'вдохновение', 'вдохновлять', 'вдруг', 'ведать', 'ведь', 'вежливый', 'везде', 'век', 'великий', 'вера', 'верблюд', 'верить', 'верный', 'вероятно', 'верх', 'вес', 'веселиться', 'весенний', 'весна', 'вести', 'весь', 'веселый', 'ветер', 'вечер', 'вечность', 'вечный', 'вещь', 'взгляд', 'вздрагивать', 'взять', 'вид', 'видимый', 'виза', 'вилка', 'вилять', 'вино', 'витамин', 'вкус', 'вкусный', 'власть', 'влюбить', 'влюбляться', 'вместе', 'вместо', 'внешний', 'вниз', 'внизу', 'внимание', 'внутренний', 'внутри', 'вовсе', 'вода', 'водоплавающий', 'военный', 'возбудить', 'возбуждать', 'возбуждение', 'возвращаться', 'возвращение', 'воздух', 'возможный', 'возникать', 'возрадоваться', 'возраст', 'вой', 'война', 'вокзал', 'вокруг', 'вол', 'волк', 'волос', 'воля', 'вообще', 'вопрос', 'воротник', 'восемнадцать', 'восемьдесят', 'восемьсот', 'воскресение', 'восток', 'восхищаться', 'восхищение', 'восход солнца', 'восьмой', 'вот', 'впечатление', 'вполне', 'впрочем', 'враг', 'враждебный', 'врач', 'вред', 'вредный озорной', 'временный', 'время', 'время 11 часов', 'время для измерений', 'время по гринвичу', 'всегда', 'вскружить', 'вспоминать', 'вспомнить', 'вставать', 'встреча', 'встречать', 'всякий', 'все', 'все равный', 'вторник', 'второй', 'входить', 'вчера', 'вы', 'выбирать', 'вывод', 'вызывать', 'выигрыш', 'вылетать', 'выпуск', 'выручать', 'высокий', 'высокомерный', 'выставка', 'выходить', 'выходной', 'гавканье', 'газета', 'где', 'генерал', 'гений', 'главный', 'глаз', 'глотать', 'глотать жадно', 'глупый', 'глухой', 'глядеть', 'гнев', 'гнездо', 'говорить', 'год', 'голова', 'голод', 'голос', 'гора', 'горазд', 'гордость', 'гордый', 'горевать', 'город', 'горький', 'господин', 'гостиница', 'гость', 'государство', 'готовить', 'гражданин', 'грубый', 'группа/компания', 'грустный', 'грязный', 'да', 'давать', 'давление', 'давно', 'даже', 'далекий', 'данный', 'дать', 'двадцать', 'дважды', 'две недели', 'две тысячи', 'двенадцатый', 'двенадцать', 'дверь', 'двести', 'движение', 'двор', 'девочка', 'девушка', 'девяносто', 'девятнадцать', 'девятый', 'девятьсот', 'действительно', 'действовать', 'декабрь', 'делать', 'делать выводы', 'делать мелкий глоток', 'дело', 'дельфин', 'день', 'день и ночь', 'деньга', 'дерево', 'держать', 'десна', 'десять', 'детский', 'дешевый', 'диета', 'дизайн', 'дикое животное', 'динозавр', 'директор', 'дистресс', 'длинный', 'для', 'до', 'до свидание', 'добавлять', 'добро', 'добро пожаловать', 'добропорядочность', 'доверять', 'довольный', 'довольство', 'договор', 'доктор', 'документ', 'долгий', 'должный', 'доллар', 'дом', 'домашнее животное', 'доминантный', 'доминировать', 'домогаться', 'домой', 'дорога', 'дорогой', 'доставлять удовольствие', 'достаточный', 'достигать', 'дочь', 'дрожать', 'друг', 'друг друг', 'другой', 'дружелюбный', 'думать', 'дух', 'душа', 'дятел', 'еда', 'единственный', 'единый', 'ежедневный', 'если/или', 'естественно', 'ехать', 'еще нет', 'еще', 'жадно есть', 'жадность', 'жадный', 'жажда', 'жаждать', 'жалость', 'жаль', 'жарить', 'жаркий', 'ждать', 'же', 'жевать', 'желание', 'желать', 'жена', 'женатый', 'женский', 'женский туалет', 'женщина', 'жестокий', 'живой', 'животное', 'жираф', 'жить', 'журнал', 'жуткий', 'желтый', 'жесткий', 'за', 'забирать', 'забота', 'забывать', 'заварочный чайник', 'зависеть', 'зависть', 'завтра', 'задавать', 'задача', 'задерживать', 'заказ', 'заканчивать', 'закон', 'закрывать', 'закуска перед едой', 'зал', 'замечать', 'занимать', 'заниматься', 'занятый', 'запад', 'запасливый', 'записывать', 'запоздалый', 'заполнять', 'заставлять', 'застенчивый', 'затем потом', 'затягивать', 'зачем', 'защита', 'заявлять', 'заяц', 'звать', 'звезда', 'зверь', 'звонить', 'звук', 'здесь/тут', 'здоровье', 'здравствуйте', 'зеленый', 'земля', 'зима', 'зло', 'злобный', 'злой', 'злость', 'змея', 'знак', 'знакомить', 'знакомый', 'значит', 'золотой', 'зоопарк', 'зрелищный', 'зрение', 'зуб', 'и', 'игра', 'играть', 'идея', 'идти', 'из', 'из-за', 'известно', 'изменение', 'изменять', 'изможденный', 'износить', 'изучать', 'именно', 'иметь', 'импульс', 'имя', 'иначе', 'инвалид', 'инициатива', 'инклюзивный', 'иногда', 'иной', 'иностранный', 'институт', 'интеллектуальный', 'интересный', 'информация', 'искать', 'искренний', 'искусство', 'использовать', 'испортить', 'испуг', 'испуганный', 'испытывать', 'истерика', 'история', 'исчезать', 'итог', 'к', 'каждый', 'как', 'какой', 'календарь', 'камень', 'каникулы', 'канун', 'карандаш', 'карта', 'картина', 'касаться', 'кафе', 'кафетерий', 'качество', 'квартира', 'квитанция', 'кино', 'класс/кабинет/комната', 'клевать', 'клетка', 'клиент', 'клюв', 'ключ', 'км', 'книга', 'когда', 'коготь', 'коза', 'козел', 'количество', 'команда', 'комар', 'комментарий', 'компьютер', 'конец', 'конечно', 'контроль', 'копыто', 'корабль', 'коридор', 'коричневый', 'кормить', 'корова', 'корона', 'короткий', 'который', 'кофе', 'кошка', 'край', 'крайний', 'красивый', 'красноватый', 'красный', 'краткий', 'креветка', 'крест', 'кровь', 'крокодил', 'кролик', 'кроме', 'кротость', 'круг', 'кружка', 'крыло', 'крыса', 'кстати', 'кто', 'кубок', 'кувшин', 'куда', 'культура', 'купить', 'курица', 'курс', 'кусать', 'кусок', 'кусок тонкими слоями', 'лак', 'ланч', 'лебедь', 'лев', 'левый', 'лежать', 'лекарство', 'ленивый', 'ленность', 'лес', 'лето', 'летучая мышь', 'ли', 'либо', 'линия', 'лиса', 'лист', 'лить', 'лицемерный', 'лицензия/регистрация', 'лицо', 'личные качества', 'личный', 'лишний', 'лишь', 'логичный', 'ложиться', 'лондон', 'лопата', 'лось', 'лошадь', 'любовь', 'любой', 'любопытный', 'лягушка', 'легкий', 'магазин', 'маленький', 'мало', 'мальчик', 'мама', 'марка', 'масса', 'материал', 'мать', 'машина', 'мгновение', 'медведь', 'медленный', 'медуза', 'между', 'между тем', 'международный', 'менее', 'мера', 'место', 'место для пикника', 'месяц', 'метр', 'метро', 'миграция', 'миленький', 'миллион', 'милосердный', 'милый', 'минимум', 'минута', 'мир', 'мировой', 'мнение', 'много', 'множество', 'модель', 'мой/наш', 'молодой', 'момент', 'море', 'москва', 'мотивация', 'мотивировать', 'мочь', 'мудрый', 'муж', 'мужественность', 'мужской туалет', 'мужчина', 'музей', 'музыка', 'мурашки', 'мы', 'мысль', 'мыть', 'мышь', 'мятежный', 'мертвый', 'на', 'наблюдательность', 'наверное', 'наверху', 'навсегда', 'наглость', 'над', 'надеяться', 'надоедать', 'назад', 'назначенное время', 'называть', 'наивный', 'наконец', 'накрывать на стол', 'налог', 'написать', 'направление', 'например', 'напряжение', 'напугать', 'народ', 'наружу', 'населять', 'насколько', 'наслаждаться', 'настоящий', 'наука', 'нахальный', 'находить', 'находиться', 'нац', 'национальность', 'начало', 'начальник', 'начинать', 'нашествие', 'не', 'не бояться', 'не бывать', 'не быть', 'не верить', 'не видеть', 'не выносить', 'не выходить', 'не говорить', 'не давать', 'не делать', 'не думать', 'не забывать', 'не замечать', 'не знать', 'не иметь', 'не любить', 'не любовь', 'не мочь', 'не надо', 'не находить', 'не нравиться', 'не нужно', 'не обращать', 'не ответ', 'не отвечать', 'не очень', 'не получаться', 'не помнить', 'не понимать', 'не приходить', 'не против', 'не работа', 'не работать', 'не сказать', 'не слышать', 'не смочь', 'не стоить', 'не уверенный', 'не узнавать', 'не уметь', 'не успевать', 'не хватать', 'не хотеть', 'небо', 'невиновный', 'невозможный', 'недавно', 'неделя', 'недобрый', 'недовольный', 'нежный', 'нежный мягкий', 'некий', 'некоторый', 'неловкий неуклюжий', 'нельзя', 'немедленный', 'немного', 'немой', 'ненавидеть', 'необходимо', 'необходимый', 'неожиданный', 'непослушный', 'непреклонный', 'неприятный', 'непрозрачность', 'нерадивый', 'нерв', 'несколько', 'несчастие', 'нет', 'неуважение', 'неудобный', 'неудобство', 'ни', 'низкий', 'никак', 'никакой', 'никогда', 'никто', 'ничего', 'ничто', 'но', 'новость', 'новый', 'нога', 'ноль', 'номер', 'нормальный', 'носить', 'носорог', 'ночь', 'ноябрь', 'нравиться', 'нравственность', 'ну', 'нуждаться', 'нужно', 'нужный', 'нью-йорк', 'оба', 'обедать', 'обезьяна', 'обеспокоить', 'обещать', 'обладать', 'область', 'облегчение', 'обманчивость', 'обмен', 'обнаруживать', 'обнимать', 'образ', 'образование', 'образовать', 'обращать', 'обращаться', 'обучать', 'обучение', 'общество', 'общий', 'объект', 'объективный', 'объявление', 'объяснять', 'объятие', 'обычный', 'обязательный/должный', 'овца', 'огромный', 'одалживать', 'одаренный', 'одежда', 'одержимый', 'одиннадцатый', 'одиннадцать', 'одинокий', 'однажды', 'однако', 'одновременность', 'одновременный', 'оживленный', 'ожидать', 'озаботить', 'означать', 'оказывать', 'оказываться', 'окно', 'около', 'октябрь', 'окунать', 'олень', 'он', 'она', 'они', 'онлайн', 'опасный', 'операция', 'описывать', 'оплата', 'определять', 'опыт', 'опять', 'оранжевый', 'организация', 'оружие', 'орел', 'оседать', 'осень', 'основа', 'основной', 'основной цвет', 'особенно', 'особенный', 'особый', 'оставаться', 'оставлять', 'остальной', 'останавливать', 'останавливаться', 'остановка', 'осторожный', 'остроумие', 'острый', 'от', 'отважиться', 'ответ/сказать', 'ответственный', 'отвечать', 'отвратительный', 'отвращение', 'отдавать', 'отдел', 'отдельный', 'отец', 'отказ', 'отказывать', 'откладывать', 'открывать', 'откуда', 'откупоривать', 'откусывание', 'отличный', 'отмечать', 'относиться', 'отношение', 'отправлять', 'отрицательный', 'отсутствие', 'оттенок', 'отчаиваться', 'отчаянный', 'официант', 'охотный', 'оценка', 'очередь', 'очки', 'ошарашивать', 'ошеломлять', 'ошибка', 'ощущение', 'павлин', 'пакет', 'палец', 'памятник', 'память', 'панда', 'папа', 'пара', 'парень', 'парикмахерская', 'паспорт', 'паук', 'паучья сеть', 'первый', 'переваривание', 'переваривать', 'перевод', 'переводить', 'перед', 'передавать', 'пересадка', 'переставать', 'переход', 'переходить', 'перо', 'песня', 'петух', 'петь', 'печаль', 'пингвин', 'пир', 'писать', 'письмо', 'пить', 'питьевая вода', 'плавник', 'плакать', 'план', 'плата за вход', 'плохо', 'плохой', 'по', 'по часам', 'повар', 'поведение', 'поверхностный', 'повод', 'повторять', 'погода', 'под', 'подавлять', 'подарок', 'поддержка', 'подлинный', 'подниматься', 'поднос', 'подобно', 'подобный', 'подозревать', 'подробный', 'подруга', 'подстригать', 'подтверждение', 'подумать', 'подходить', 'подымать', 'поезд', 'поехать', 'позволять', 'позвонить на сервис', 'поздний', 'поздно', 'позиция', 'позор', 'поиск', 'пойти', 'пока', 'пока (что)', 'показывать', 'покаяние', 'покрасить', 'покраснеть', 'полагать', 'поле', 'ползание', 'политика', 'полиция', 'полный', 'половина', 'положение', 'положительный', 'получать', 'получаться', 'получающий удовольствие', 'пользоваться', 'помесь', 'помнить', 'помогать', 'помощник повара', 'понедельник', 'понимать', 'попадать', 'попугай', 'попытка', 'пора', 'порядок', 'посадка', 'посещать', 'после', 'последний', 'послушный', 'посмотреть', 'посольство', 'поставлять', 'постепенный', 'постоянный', 'поступать', 'посылать', 'пот', 'потерять', 'потому', 'потрясать', 'похоже', 'почва', 'почему', 'починять', 'почка', 'почта', 'почти', 'поэтому', 'появление', 'правда', 'правило', 'правильный', 'правительство', 'право', 'правша', 'правый', 'прагматичный', 'праздник', 'практика', 'практически', 'предать', 'предел', 'предлагать', 'предложить тост', 'предпочитать', 'представитель', 'представлять', 'предусмотрительный', 'предыдущий', 'прежде', 'президент', 'презирать', 'презрение', 'прекрасный', 'пренебрежение', 'при', 'прибывать', 'привет', 'привозить', 'привыкать', 'приглашение', 'приезжать', 'прием пищи', 'признавать', 'приличный', 'пример/казаться', 'примерный', 'принимать/получать', 'приносить', 'принцип', 'природа', 'приручать', 'приходить', 'приходиться', 'причина', 'причинять резкую боль', 'приятный', 'прием', 'про', 'проблема', 'пробовать', 'проверка', 'проверять', 'проводить', 'программа', 'продавать', 'продлевать', 'продлиться', 'продолжать', 'продолжение', 'продолжительность', 'продумывать', 'проект', 'прозрачный', 'произносить', 'происходить', 'проныра', 'просить', 'просто', 'пространство', 'против', 'проходить', 'процесс', 'прошлый', 'прощание', 'прощать', 'прямо', 'прямой', 'птица', 'пункт', 'пустой', 'пусть', 'путешествие', 'путешествовать', 'путь', 'пчела', 'пылесос', 'пытаться', 'пятнадцать', 'пятница', 'пятый', 'пять год', 'пять тысяч', 'пятьдесят', 'пятьсот', 'раб', 'работа', 'работать', 'рабочий', 'равно', 'рад', 'радостный', 'раз', 'разбивать', 'разве', 'развитие', 'разгневать', 'разговор', 'раздражать', 'различный', 'размер', 'разный', 'разочаровывать', 'разрыдаться', 'разумный', 'разъяренный', 'район', 'ранее', 'ранний', 'рано', 'расписание', 'распределять', 'рассердиться', 'рассеянный', 'рассказывать', 'расслабление', 'расслабляться', 'расстраивать', 'расстройство', 'расти', 'растить', 'реальный', 'ребята', 'ребяческий', 'ребенок', 'ревнивый', 'редкий', 'результат', 'рейс', 'река', 'религия', 'ремонт', 'ресторан', 'речь', 'решать', 'рог', 'родитель', 'родиться', 'рождение', 'розовый', 'роль', 'роман', 'россия', 'рот', 'рубль', 'рука', 'руководитель', 'ручка', 'рыба', 'рыдать', 'рынок', 'рычание', 'рычать', 'ряд', 'с', 'с днем рождения', 'с я', 'сайт', 'сам', 'самоанализ', 'самовосприятие', 'самоконтроль', 'самолет', 'самомнение', 'самообман', 'самоосознание', 'самопроверка', 'самый', 'сарказм', 'сбер', 'сверху', 'свет', 'свинья', 'свисток', 'свобода', 'свободный/разрешение', 'свой', 'связь', 'сдавать', 'сделать', 'себя', 'север', 'седьмой', 'сей пора', 'сейчас/сегодня', 'секунда', 'семнадцать', 'семьдесят', 'семьсот', 'семья', 'сентябрь', 'сердитый', 'сердце', 'серебро', 'серый', 'сестра', 'сеть', 'сзади', 'сидеть', 'сила', 'синий', 'система', 'ситуация', 'сквозь', 'скидка', 'сколько', 'скорбеть', 'скорый', 'скромный', 'скучать', 'скучный', 'слабость', 'слабый', 'следовать', 'следующий', 'слепой', 'слишком/очень', 'словно', 'слово', 'сложный', 'сломать', 'слон', 'служба', 'случаться', 'слушать', 'слышать', 'смелость', 'смерть', 'смех', 'смешной', 'смеяться', 'смиряться', 'смотреть/видеть', 'смочь', 'смутить', 'смысл', 'сначала', 'снимать', 'снова', 'собака', 'собачий домик', 'собирать', 'собственный', 'событие', 'совершать', 'советовать', 'советский', 'современный', 'совсем', 'согласно', 'соглашаться', 'сожаление', 'сожалеть', 'создавать', 'создание', 'сознание', 'солнце', 'соль', 'сомневаться', 'сомнение', 'сон', 'сообщение', 'сорок', 'составлять', 'состояние', 'состоять', 'соты', 'сохранять', 'социальный', 'сочувствие', 'союз', 'спасибо', 'спать', 'спектакль', 'специалист', 'специальность', 'список', 'спокойный', 'способ', 'способность', 'способный', 'справка', 'спрашивать', 'сразу', 'среда', 'среди', 'средний', 'средство', 'срок', 'срочный', 'ставить', 'становиться', 'старание', 'стараться', 'старик', 'старый', 'статья', 'стена', 'сто', 'стоить', 'стойкость', 'стол', 'столь', 'стоп', 'сторона', 'стоять', 'страдание', 'страдать', 'страна', 'странный', 'страсть', 'страшный', 'строгий', 'строить', 'студент', 'стыдный', 'суббота', 'суд', 'судьба', 'суматоха', 'сумка', 'сумма', 'сухой', 'существо', 'существование', 'существовать', 'сфера', 'сцена', 'счастие', 'счастливый', 'считать', 'сын', 'сюда', 'сюрприз', 'таблетка', 'так', 'так себе', 'также', 'таки', 'такси', 'талант', 'там/туда', 'тарелка', 'твердый', 'театр', 'текст', 'телефон', 'тело', 'тема/название', 'темнота', 'теория', 'теперь', 'терпение', 'терпеть', 'территория', 'техника', 'течение', 'тигр', 'тип', 'то', 'товар', 'тогда', 'тоже', 'только', 'торжественный', 'тот', 'тот же', 'точка', 'точно', 'требование', 'требовать', 'тревога', 'третий', 'три тысячи', 'тридцать', 'тринадцать', 'триста', 'труд', 'трудный', 'трус', 'трусливый', 'туфля', 'тщеславный', 'ты', 'тысяча', 'тяжелый', 'темный', 'теплый', 'у', 'у вы', 'у мы', 'у он', 'у она', 'у они', 'у ты', 'у я', 'убивать', 'уверенный', 'угол', 'угрюмый', 'удаваться', 'ударять', 'удивлять', 'удовольствие', 'уезжать', 'уж', 'ужасный', 'уже', 'узнавать', 'указывать', 'улыбаться', 'улыбка', 'ум', 'уметь/знать', 'умирать', 'университет', 'упасть', 'управление', 'уровень', 'уронить', 'условие', 'услуга', 'услышать', 'успевать', 'успех', 'устраивать', 'утро', 'ухо', 'уходить', 'участие', 'ученик', 'учитель', 'учить', 'факс', 'факт', 'фамилия', 'фиолетовый', 'фирма', 'форма', 'фотография', 'футбол', 'характер', 'хватать', 'химия', 'хлеб', 'ход', 'хозяин', 'холод', 'холостой', 'хороший', 'хорошо', 'хотеть', 'хоть', 'хотя', 'цвет', 'цветовой оттенок', 'целый', 'цель', 'цемент', 'цена', 'центр', 'час', 'частый', 'часть', 'часы', 'чашка', 'человек', 'чемодан', 'через', 'четверг', 'четвертый', 'четыре тысячи', 'четыреста', 'четырнадцать', 'чинить', 'число', 'чистый', 'читать', 'что', 'что-нибудь', 'чтобы', 'чувствовать', 'чудесный', 'чужой', 'чуть-чуть', 'черный', 'ш', 'шаг', 'шестнадцать', 'шестой', 'шестьдесят', 'школа', 'шум', 'шутить', 'щ', 'экономика', 'экскурсия', 'энергия', 'этаж', 'это', 'этот', 'юг', 'я', 'являться', 'язык', 'ясный', 'ежик', '2часа', '6часов', 'нетжеста', 'адаптивноеповедение', 'аллергиянаеду', 'башенныечасы', 'бытьпотрясенным', 'ввосемьпятнадцать', 'внастоящеевремя', 'впрошломгоду', 'вспешке', 'вэтомгоду', 'восходсолнца', 'вредныйозорной', 'время11часов', 'времядляизмерений', 'времяпогринвичу', 'всеравный', 'глотатьжадно', 'двенедели', 'дветысячи', 'делатьвыводы', 'делатьмелкийглоток', 'деньиночь', 'дикоеживотное', 'досвидание', 'добропожаловать', 'домашнееживотное', 'доставлятьудовольствие', 'другдруг', 'ещенет', 'жадноесть', 'женскийтуалет', 'заварочныйчайник', 'закускапередедой', 'затемпотом', 'кусоктонкимислоями', 'летучаямышь', 'личныекачества', 'междутем', 'местодляпикника', 'мужскойтуалет', 'назначенноевремя', 'накрыватьнастол', 'небояться', 'небывать', 'небыть', 'неверить', 'невидеть', 'невыносить', 'невыходить', 'неговорить', 'недавать', 'неделать', 'недумать', 'незабывать', 'незамечать', 'незнать', 'неиметь', 'нелюбить', 'нелюбовь', 'немочь', 'ненадо', 'ненаходить', 'ненравиться', 'ненужно', 'необращать', 'неответ', 'неотвечать', 'неочень', 'неполучаться', 'непомнить', 'непонимать', 'неприходить', 'непротив', 'неработа', 'неработать', 'несказать', 'неслышать', 'несмочь', 'нестоить', 'неуверенный', 'неузнавать', 'неуметь', 'неуспевать', 'нехватать', 'нехотеть', 'нежныймягкий', 'неловкийнеуклюжий', 'основнойцвет', 'паучьясеть', 'питьеваявода', 'платазавход', 'почасам', 'позвонитьнасервис', 'пока(что)', 'получающийудовольствие', 'помощникповара', 'предложитьтост', 'приемпищи', 'причинятьрезкуюболь', 'пятьгод', 'пятьтысяч', 'сднемрождения', 'ся', 'сейпора', 'собачийдомик', 'таксебе', 'тотже', 'тритысячи', 'увы', 'умы', 'уон', 'уона', 'уони', 'уты', 'уя', 'цветовойоттенок', 'четыретысячи', 'адрес', 'группа', 'если', 'здесь', 'класс', 'лицензия', 'мой', 'обязательный', 'ответ', 'пример', 'принимать', 'свободный', 'сейчас', 'слишком', 'смотреть', 'там', 'тема', 'уметь', 'улица', 'компания', 'или', 'тут', 'кабинет', 'регистрация', 'наш', 'сказать', 'казаться', 'разрешение', 'сегодня', 'очень', 'видеть', 'туда', 'название', 'знать', 'комната', 'адаптивное', 'аллергия', 'башенные', 'восход', 'вредный', 'две', 'дикое', 'домашнее', 'доставлять', 'жадно', 'заварочный', 'закуска', 'затем', 'летучая', 'личные', 'мужской', 'назначенное', 'накрывать', 'неловкий', 'паучья', 'питьевая', 'плата', 'позвонить', 'получающий', 'помощник', 'предложить', 'причинять', 'пять', 'сей', 'собачий', 'три', 'цветовой', 'четыре', 'часа', 'часов', 'жеста', 'потрясенным', 'восемь', 'настоящее', 'прошлом', 'спешке', 'этом', 'солнца', 'озорной', '11', 'равный', 'недели', 'тысячи', 'выводы', 'мелкий', 'свидание', 'пожаловать', 'есть', 'туалет', 'чайник', 'потом', 'тонкими', 'качества', 'тем', 'выносить', 'любить', 'надо', 'мягкий', 'неуклюжий', 'часам', 'повара', 'тост', 'пищи', 'резкую', 'тысяч', 'днем', 'домик', 'себе', 'еду', 'году', 'измерений', 'гринвичу', 'глоток', 'едой', 'слоями', 'пикника', 'вход', 'сервис', 'боль', 'рождения'])"
      ]
     },
     "execution_count": 222,
     "metadata": {},
     "output_type": "execute_result"
    }
   ],
   "source": [
    "gloss_dict.keys()"
   ]
  },
  {
   "cell_type": "code",
   "execution_count": 4,
   "metadata": {},
   "outputs": [],
   "source": [
    "# добавляем название модели в путь\n",
    "model_path = \"models/65/model.bin\"\n",
    "\n",
    "# загрузка модели\n",
    "model = load_model(model_path)"
   ]
  },
  {
   "cell_type": "code",
   "execution_count": 9,
   "metadata": {},
   "outputs": [],
   "source": [
    "json_dict_name = 'gloss_dict.json'\n",
    "gloss_dict = read_json_to_dict(json_dict_name)"
   ]
  }
 ],
 "metadata": {
  "kernelspec": {
   "display_name": "Python 3 (ipykernel)",
   "language": "python",
   "name": "python3"
  },
  "language_info": {
   "codemirror_mode": {
    "name": "ipython",
    "version": 3
   },
   "file_extension": ".py",
   "mimetype": "text/x-python",
   "name": "python",
   "nbconvert_exporter": "python",
   "pygments_lexer": "ipython3",
   "version": "3.9.10"
  },
  "toc": {
   "base_numbering": 1,
   "nav_menu": {},
   "number_sections": true,
   "sideBar": true,
   "skip_h1_title": false,
   "title_cell": "Table of Contents",
   "title_sidebar": "Contents",
   "toc_cell": false,
   "toc_position": {},
   "toc_section_display": true,
   "toc_window_display": false
  }
 },
 "nbformat": 4,
 "nbformat_minor": 2
}
